{
 "cells": [
  {
   "cell_type": "code",
   "execution_count": 127,
   "metadata": {},
   "outputs": [],
   "source": [
    "import pandas as pd\n",
    "import cvxpy as cp"
   ]
  },
  {
   "cell_type": "code",
   "execution_count": 128,
   "metadata": {},
   "outputs": [],
   "source": [
    "# CVXPY version: https://kevintcarlberg.net/files/opt_class_icme/7_convexity.pdf"
   ]
  },
  {
   "cell_type": "code",
   "execution_count": 129,
   "metadata": {},
   "outputs": [],
   "source": [
    "pd.options.display.width = 180"
   ]
  },
  {
   "cell_type": "code",
   "execution_count": 130,
   "metadata": {},
   "outputs": [],
   "source": [
    "df = pd.read_csv('./data/clean_fearless_flyer_with_interest.csv')"
   ]
  },
  {
   "cell_type": "code",
   "execution_count": 198,
   "metadata": {},
   "outputs": [],
   "source": [
    "cols = ['id', 'name', 'cost_per_serving', 'calories', 'total_fat', 'protein', 'total_carbs', 'sodium', 'sugars']\n",
    "macro_nutrient_cols = ['total_fat', 'protein', 'total_carbs']"
   ]
  },
  {
   "cell_type": "code",
   "execution_count": 199,
   "metadata": {},
   "outputs": [],
   "source": [
    "tdf = df.loc[~df[cols].isnull().any(axis=1), cols].copy()"
   ]
  },
  {
   "cell_type": "code",
   "execution_count": 200,
   "metadata": {},
   "outputs": [],
   "source": [
    "# tdf = tdf[tdf.interest==1]"
   ]
  },
  {
   "cell_type": "code",
   "execution_count": 201,
   "metadata": {},
   "outputs": [],
   "source": [
    "tdf['protein'] = tdf.protein * 4\n",
    "tdf['total_carbs'] = tdf.total_carbs * 4\n",
    "tdf['total_fat'] = tdf.total_fat * 9\n",
    "# tdf['added_sugars'] = tdf.added_sugars * 4"
   ]
  },
  {
   "cell_type": "code",
   "execution_count": 202,
   "metadata": {},
   "outputs": [],
   "source": [
    "tdf['computed_calories'] = tdf[macro_nutrient_cols].sum(axis=1)"
   ]
  },
  {
   "cell_type": "code",
   "execution_count": 203,
   "metadata": {},
   "outputs": [
    {
     "data": {
      "text/html": [
       "<div>\n",
       "<style scoped>\n",
       "    .dataframe tbody tr th:only-of-type {\n",
       "        vertical-align: middle;\n",
       "    }\n",
       "\n",
       "    .dataframe tbody tr th {\n",
       "        vertical-align: top;\n",
       "    }\n",
       "\n",
       "    .dataframe thead th {\n",
       "        text-align: right;\n",
       "    }\n",
       "</style>\n",
       "<table border=\"1\" class=\"dataframe\">\n",
       "  <thead>\n",
       "    <tr style=\"text-align: right;\">\n",
       "      <th></th>\n",
       "      <th>id</th>\n",
       "      <th>name</th>\n",
       "      <th>cost_per_serving</th>\n",
       "      <th>calories</th>\n",
       "      <th>total_fat</th>\n",
       "      <th>protein</th>\n",
       "      <th>total_carbs</th>\n",
       "      <th>sodium</th>\n",
       "      <th>sugars</th>\n",
       "      <th>computed_calories</th>\n",
       "    </tr>\n",
       "  </thead>\n",
       "  <tbody>\n",
       "    <tr>\n",
       "      <th>27</th>\n",
       "      <td>4652</td>\n",
       "      <td>For the Love of Chocolate Cake</td>\n",
       "      <td>1.33000</td>\n",
       "      <td>350.0</td>\n",
       "      <td>180.0</td>\n",
       "      <td>16.0</td>\n",
       "      <td>176.0</td>\n",
       "      <td>200.0</td>\n",
       "      <td>31.0</td>\n",
       "      <td>372.0</td>\n",
       "    </tr>\n",
       "    <tr>\n",
       "      <th>28</th>\n",
       "      <td>4653</td>\n",
       "      <td>Pancake Bread</td>\n",
       "      <td>0.49875</td>\n",
       "      <td>190.0</td>\n",
       "      <td>90.0</td>\n",
       "      <td>8.0</td>\n",
       "      <td>100.0</td>\n",
       "      <td>230.0</td>\n",
       "      <td>15.0</td>\n",
       "      <td>198.0</td>\n",
       "    </tr>\n",
       "    <tr>\n",
       "      <th>29</th>\n",
       "      <td>4654</td>\n",
       "      <td>Pizza Crusts</td>\n",
       "      <td>0.43625</td>\n",
       "      <td>150.0</td>\n",
       "      <td>22.5</td>\n",
       "      <td>20.0</td>\n",
       "      <td>112.0</td>\n",
       "      <td>330.0</td>\n",
       "      <td>1.0</td>\n",
       "      <td>154.5</td>\n",
       "    </tr>\n",
       "    <tr>\n",
       "      <th>30</th>\n",
       "      <td>4655</td>\n",
       "      <td>Sprouted Wheat Sourdough</td>\n",
       "      <td>0.19950</td>\n",
       "      <td>90.0</td>\n",
       "      <td>0.0</td>\n",
       "      <td>28.0</td>\n",
       "      <td>56.0</td>\n",
       "      <td>170.0</td>\n",
       "      <td>1.0</td>\n",
       "      <td>84.0</td>\n",
       "    </tr>\n",
       "    <tr>\n",
       "      <th>32</th>\n",
       "      <td>4657</td>\n",
       "      <td>Cold Pressed Green Juice</td>\n",
       "      <td>3.99000</td>\n",
       "      <td>100.0</td>\n",
       "      <td>0.0</td>\n",
       "      <td>20.0</td>\n",
       "      <td>80.0</td>\n",
       "      <td>320.0</td>\n",
       "      <td>11.0</td>\n",
       "      <td>100.0</td>\n",
       "    </tr>\n",
       "  </tbody>\n",
       "</table>\n",
       "</div>"
      ],
      "text/plain": [
       "      id                            name  cost_per_serving  calories  total_fat  protein  total_carbs  sodium  sugars  computed_calories\n",
       "27  4652  For the Love of Chocolate Cake           1.33000     350.0      180.0     16.0        176.0   200.0    31.0              372.0\n",
       "28  4653                   Pancake Bread           0.49875     190.0       90.0      8.0        100.0   230.0    15.0              198.0\n",
       "29  4654                    Pizza Crusts           0.43625     150.0       22.5     20.0        112.0   330.0     1.0              154.5\n",
       "30  4655        Sprouted Wheat Sourdough           0.19950      90.0        0.0     28.0         56.0   170.0     1.0               84.0\n",
       "32  4657        Cold Pressed Green Juice           3.99000     100.0        0.0     20.0         80.0   320.0    11.0              100.0"
      ]
     },
     "execution_count": 203,
     "metadata": {},
     "output_type": "execute_result"
    }
   ],
   "source": [
    "tdf.head()"
   ]
  },
  {
   "cell_type": "markdown",
   "metadata": {},
   "source": [
    "## The Problem\n",
    "\n",
    "We want to minimize some aspect of our diet (how much we spend, how much salt we intake) subject to some other constraints (like nutritional composition of the food, a budget, etc). We have\n",
    " - n: number of products\n",
    " - m: number of nutrition dimensions\n",
    " - c: a vector of costs for each food\n",
    " - A: an n x m matrix of products\n",
    " \n",
    "We're looking for x, which is a vector of length n with components representing the amount of each product we'll include that both satisfies the constraints and minimizes the overall cost\n"
   ]
  },
  {
   "cell_type": "code",
   "execution_count": 204,
   "metadata": {},
   "outputs": [],
   "source": [
    "def create_constraints(A, x, diet):\n",
    "    \"\"\"\n",
    "    Takes a list of diet parameters and \n",
    "    returns a list of cvxpy constraint \n",
    "    expressions\n",
    "    \"\"\"\n",
    "    min_cals = diet[0]\n",
    "    max_cals = diet[1]\n",
    "    fat = diet[2]\n",
    "    protein = diet[3]\n",
    "    carbs = diet[4]\n",
    "    max_servings = diet[5]\n",
    "    \n",
    "    return [\n",
    "        A[:, 0]*x >= min_cals,\n",
    "        A[:, 0]*x <= max_cals,\n",
    "        A[:, 1]*x >= min_cals * fat,\n",
    "        A[:, 1]*x <= max_cals * fat,\n",
    "        A[:, 2]*x >= min_cals * protein,\n",
    "        A[:, 2]*x <= max_cals * protein,\n",
    "        A[:, 3]*x >= min_cals * carbs,\n",
    "        A[:, 3]*x <= max_cals * carbs,\n",
    "        x >= 0,\n",
    "        x <= max_servings\n",
    "    ]"
   ]
  },
  {
   "cell_type": "code",
   "execution_count": 205,
   "metadata": {},
   "outputs": [],
   "source": [
    "def create_variables(df, cols, objective_col):\n",
    "    \"\"\"\n",
    "    Takes a dataframe with response information and\n",
    "    returns a set of variables and a problem\n",
    "    \"\"\"\n",
    "    n = df.shape[0]\n",
    "    m = len(cols)\n",
    "    c = df[objective_col].values\n",
    "    A = df[cols].values\n",
    "    \n",
    "    return n, m, c, A"
   ]
  },
  {
   "cell_type": "code",
   "execution_count": 206,
   "metadata": {},
   "outputs": [],
   "source": [
    "def create_problem(n, m, c, A, diet):\n",
    "    \"\"\"\n",
    "    Takes a set of variables and a diet and\n",
    "    returns a vector and a problem\n",
    "    \"\"\"\n",
    "    x = cp.Variable(n, integer=True)\n",
    "    obj = cp.Minimize(c.T*x)\n",
    "    constr = create_constraints(A, x, diet)\n",
    "    problem = cp.Problem(obj, constr)\n",
    "    \n",
    "    return x, problem"
   ]
  },
  {
   "cell_type": "code",
   "execution_count": 207,
   "metadata": {},
   "outputs": [],
   "source": [
    "def create_summary(df, cols):\n",
    "    \"\"\"\n",
    "    Takes a dataframe with serving information\n",
    "    and returns a dataframe of servings and costs\n",
    "    and total cost\n",
    "    \"\"\"\n",
    "    servings = df.copy()\n",
    "    for col in cols[1:]:\n",
    "        servings.loc[:, col] = servings[col] * servings.servings\n",
    "    servings['cost'] = servings.cost_per_serving * servings.servings\n",
    "    total_cost = servings.cost.sum()\n",
    "    return servings, total_cost"
   ]
  },
  {
   "cell_type": "markdown",
   "metadata": {},
   "source": [
    "### Minimizing Cost in Line with a Diet"
   ]
  },
  {
   "cell_type": "code",
   "execution_count": 208,
   "metadata": {},
   "outputs": [],
   "source": [
    "diets = {\n",
    "    'Balanced': [2200, 2500, .3, .3, .4, 3],\n",
    "    'Keto': [2200, 2500, .7, .24, .01, 3], # high fat and protein\n",
    "    'Atkins': [2200, 2500, .45, .45, .1, 3], # low low carb\n",
    "    # Low sodium\n",
    "    # Max protein given an amount of money to spend budget\n",
    "    # Minimize sugar for gary taubs constrained by a given amount\n",
    "    # Maximize fibre\n",
    "}"
   ]
  },
  {
   "cell_type": "code",
   "execution_count": 209,
   "metadata": {},
   "outputs": [],
   "source": [
    "def optimize_diets(tdf, cols):\n",
    "    df = tdf.copy()\n",
    "    n, m, c, A = create_variables(df, cols[1:], 'cost_per_serving')\n",
    "    \n",
    "    for diet, diet_params in diets.items():\n",
    "        print(diet)\n",
    "        print()        \n",
    "        # Create the problem\n",
    "        x, problem = create_problem(n, m, c, A, diet_params)\n",
    "        # Solve the problem\n",
    "        opt_value = problem.solve(verbose=True)\n",
    "        \n",
    "        print(\"Problem status: {}\".format(problem.status))\n",
    "        print()\n",
    "        \n",
    "        # Show the summary\n",
    "        df['servings'] = x.value\n",
    "        servings, total_cost = create_summary(df[df.servings > 0].copy(), cols)\n",
    "        \n",
    "        print(servings.sort_values('servings', ascending=False))\n",
    "        print()\n",
    "        print(servings[cols].sum())\n",
    "        print()\n",
    "        print(\"% of calories\")\n",
    "        print(servings[cols].sum() / servings.computed_calories.sum() * 100)\n",
    "        print()\n",
    "        print(\"Total cost: ${}\".format(round(total_cost, 2)))\n",
    "        print()\n",
    "        print()"
   ]
  },
  {
   "cell_type": "code",
   "execution_count": 210,
   "metadata": {},
   "outputs": [],
   "source": [
    "diet_cols = ['cost_per_serving', 'computed_calories', 'total_fat', 'protein', 'total_carbs']"
   ]
  },
  {
   "cell_type": "code",
   "execution_count": 211,
   "metadata": {},
   "outputs": [
    {
     "name": "stdout",
     "output_type": "stream",
     "text": [
      "Keto\n",
      "\n",
      "Problem status: optimal\n",
      "\n",
      "       id                           name  cost_per_serving  calories  total_fat  protein  total_carbs  sodium  sugars  computed_calories  servings    cost\n",
      "152  4787             Unexpected Cheddar          0.570000     120.0      270.0     84.0          0.0   170.0     0.0              354.0       3.0  1.7100\n",
      "528  5185              Cornish Game Hens          0.886667     220.0      432.0    228.0          0.0    70.0     0.0              660.0       3.0  2.6600\n",
      "36   4661          French Fromage Slices          0.623750     100.0      162.0     40.0          0.0   125.0     0.0              202.0       2.0  1.2475\n",
      "106  4737            Pesto Alla Genovese          0.830000     250.0      468.0     24.0         24.0   840.0     0.0              516.0       2.0  1.6600\n",
      "409  5061  Organic Grass Fed Ground Beef          1.497500     240.0      306.0    168.0          0.0    75.0     0.0              474.0       2.0  2.9950\n",
      "\n",
      "cost_per_serving        4.407917\n",
      "computed_calories    2206.000000\n",
      "total_fat            1638.000000\n",
      "protein               544.000000\n",
      "total_carbs            24.000000\n",
      "dtype: float64\n",
      "\n",
      "% of calories\n",
      "cost_per_serving       0.199815\n",
      "computed_calories    100.000000\n",
      "total_fat             74.252040\n",
      "protein               24.660018\n",
      "total_carbs            1.087942\n",
      "dtype: float64\n",
      "\n",
      "Total cost: $10.27\n",
      "\n",
      "\n",
      "Balanced\n",
      "\n",
      "Problem status: optimal\n",
      "\n",
      "       id                                               name  cost_per_serving  calories  total_fat  protein  total_carbs  sodium  sugars  computed_calories  servings      cost\n",
      "30   4655                           Sprouted Wheat Sourdough          0.199500      90.0        0.0     84.0        168.0   170.0     1.0              252.0       3.0  0.598500\n",
      "68   4698                          Organic High Protein Tofu          0.498000     130.0      189.0    168.0         36.0    15.0     0.0              393.0       3.0  1.494000\n",
      "398  5048  Pumpkin Pancake Mixes, Gluten-Full or Gluten-Free          0.165833     170.0        0.0     48.0        432.0   380.0    10.0              480.0       3.0  0.497500\n",
      "528  5185                                  Cornish Game Hens          0.886667     220.0      432.0    228.0          0.0    70.0     0.0              660.0       3.0  2.660000\n",
      "165  4800                             Mini Vegetable Samosas          1.163333     160.0       63.0     96.0         80.0   260.0     0.0              239.0       1.0  1.163333\n",
      "285  4929                  Organic Shells with White Cheddar          0.556000     260.0       31.5     40.0        188.0   570.0     5.0              259.5       1.0  0.556000\n",
      "\n",
      "cost_per_serving        3.469333\n",
      "computed_calories    2283.500000\n",
      "total_fat             715.500000\n",
      "protein               664.000000\n",
      "total_carbs           904.000000\n",
      "dtype: float64\n",
      "\n",
      "% of calories\n",
      "cost_per_serving       0.151931\n",
      "computed_calories    100.000000\n",
      "total_fat             31.333479\n",
      "protein               29.078169\n",
      "total_carbs           39.588351\n",
      "dtype: float64\n",
      "\n",
      "Total cost: $6.97\n",
      "\n",
      "\n",
      "Atkins\n",
      "\n",
      "Problem status: optimal\n",
      "\n",
      "       id                               name  cost_per_serving  calories  total_fat  protein  total_carbs  sodium  sugars  computed_calories  servings      cost\n",
      "68   4698          Organic High Protein Tofu          0.498000     130.0      189.0    168.0         36.0    15.0     0.0              393.0       3.0  1.494000\n",
      "161  4796          Shiitake Mushroom Chicken          1.247500     180.0      216.0    240.0        108.0   480.0     3.0              564.0       3.0  3.742500\n",
      "250  4892  All Natural Ground Turkey Patties          1.122500     160.0      216.0    240.0          0.0   160.0     0.0              456.0       3.0  3.367500\n",
      "528  5185                  Cornish Game Hens          0.886667     220.0      288.0    152.0          0.0    70.0     0.0              440.0       2.0  1.773333\n",
      "158  4793        Organic Rainbow Cauliflower          0.598000      30.0        0.0      8.0         16.0    30.0     0.0               24.0       1.0  0.598000\n",
      "165  4800             Mini Vegetable Samosas          1.163333     160.0       63.0     96.0         80.0   260.0     0.0              239.0       1.0  1.163333\n",
      "409  5061      Organic Grass Fed Ground Beef          1.497500     240.0      153.0     84.0          0.0    75.0     0.0              237.0       1.0  1.497500\n",
      "475  5132                       Turkey Stock          0.572500      15.0        0.0      4.0          8.0   430.0     1.0               12.0       1.0  0.572500\n",
      "\n",
      "cost_per_serving        7.586\n",
      "computed_calories    2365.000\n",
      "total_fat            1125.000\n",
      "protein               992.000\n",
      "total_carbs           248.000\n",
      "dtype: float64\n",
      "\n",
      "% of calories\n",
      "cost_per_serving       0.320761\n",
      "computed_calories    100.000000\n",
      "total_fat             47.568710\n",
      "protein               41.945032\n",
      "total_carbs           10.486258\n",
      "dtype: float64\n",
      "\n",
      "Total cost: $14.21\n",
      "\n",
      "\n"
     ]
    }
   ],
   "source": [
    "optimize_diets(tdf, diet_cols)"
   ]
  },
  {
   "cell_type": "markdown",
   "metadata": {},
   "source": [
    "### Keto + Minimum Added Sugars"
   ]
  },
  {
   "cell_type": "code",
   "execution_count": 212,
   "metadata": {},
   "outputs": [],
   "source": [
    "def optimize_keto_sugar(df, cols):\n",
    "    n, m, c, A = create_variables(df, cols[1:], 'cost_per_serving')\n",
    "    \n",
    "    print('Keto + Minimum Added Sugar')\n",
    "    print()\n",
    "\n",
    "    # Variable, constraints, and problem\n",
    "    x = cp.Variable(n, integer=True)\n",
    "    obj = cp.Minimize(c.T*x)\n",
    "    constr = create_constraints(A, x, diets['Keto']) + [A[:, 4]*x <= 1]\n",
    "    problem = cp.Problem(obj, constr)\n",
    "\n",
    "    # Solve the problem and show the output\n",
    "    opt_value = problem.solve(verbose=True)\n",
    "    df['servings'] = x.value\n",
    "    servings, total_cost = create_summary(df[df.servings > 0].copy(), cols)\n",
    "\n",
    "    print(servings)\n",
    "    print()\n",
    "    print(servings[cols].sum())\n",
    "    print()\n",
    "    print(\"% of calories\")\n",
    "    print(servings[cols].sum() / servings.computed_calories.sum() * 100)\n",
    "    print()\n",
    "    print(\"Total cost: ${}\".format(round(total_cost, 2)))\n",
    "    print()"
   ]
  },
  {
   "cell_type": "code",
   "execution_count": 213,
   "metadata": {},
   "outputs": [],
   "source": [
    "keto_sugar_cols = ['cost_per_serving', 'computed_calories', 'total_fat', 'protein', 'total_carbs', 'sugars']"
   ]
  },
  {
   "cell_type": "code",
   "execution_count": 214,
   "metadata": {},
   "outputs": [
    {
     "name": "stdout",
     "output_type": "stream",
     "text": [
      "Keto + Minimum Added Sugar\n",
      "\n",
      "       id                           name  cost_per_serving  calories  total_fat  protein  total_carbs  sodium  sugars  computed_calories  servings    cost\n",
      "36   4661          French Fromage Slices          0.623750     100.0      162.0     40.0          0.0   125.0     0.0              202.0       2.0  1.2475\n",
      "106  4737            Pesto Alla Genovese          0.830000     250.0      468.0     24.0         24.0   840.0     0.0              516.0       2.0  1.6600\n",
      "152  4787             Unexpected Cheddar          0.570000     120.0      270.0     84.0          0.0   170.0     0.0              354.0       3.0  1.7100\n",
      "409  5061  Organic Grass Fed Ground Beef          1.497500     240.0      306.0    168.0          0.0    75.0     0.0              474.0       2.0  2.9950\n",
      "528  5185              Cornish Game Hens          0.886667     220.0      432.0    228.0          0.0    70.0     0.0              660.0       3.0  2.6600\n",
      "\n",
      "cost_per_serving        4.407917\n",
      "computed_calories    2206.000000\n",
      "total_fat            1638.000000\n",
      "protein               544.000000\n",
      "total_carbs            24.000000\n",
      "sugars                  0.000000\n",
      "dtype: float64\n",
      "\n",
      "% of calories\n",
      "cost_per_serving       0.199815\n",
      "computed_calories    100.000000\n",
      "total_fat             74.252040\n",
      "protein               24.660018\n",
      "total_carbs            1.087942\n",
      "sugars                 0.000000\n",
      "dtype: float64\n",
      "\n",
      "Total cost: $10.27\n",
      "\n"
     ]
    }
   ],
   "source": [
    "optimize_keto_sugar(tdf.copy(), keto_sugar_cols)"
   ]
  },
  {
   "cell_type": "markdown",
   "metadata": {},
   "source": [
    "### Minimize Sodium with Max Cost of $8 / day"
   ]
  },
  {
   "cell_type": "code",
   "execution_count": 215,
   "metadata": {},
   "outputs": [],
   "source": [
    "def create_sodium_constraints(A, x, diet):\n",
    "    \"\"\"\n",
    "    Takes a list of diet parameters and \n",
    "    returns a list of cvxpy constraint \n",
    "    expressions\n",
    "    \"\"\"\n",
    "    min_cals = diet[0]\n",
    "    max_cost = diet[1]\n",
    "    fat = diet[2]\n",
    "    protein = diet[3]\n",
    "    carbs = diet[4]\n",
    "    sugars = diet[5]\n",
    "    max_servings = diet[6]\n",
    "    \n",
    "    return [\n",
    "        A[:, 0]*x >= min_cals,\n",
    "        A[:, 1]*x <= max_cost,\n",
    "        A[:, 2]*x >= min_cals * fat,\n",
    "        A[:, 3]*x >= min_cals * protein,\n",
    "        A[:, 4]*x >= min_cals * carbs,\n",
    "        A[:, 5]*x <= sugars,        \n",
    "        x >= 0,\n",
    "        x <= max_servings\n",
    "    ]"
   ]
  },
  {
   "cell_type": "code",
   "execution_count": 216,
   "metadata": {},
   "outputs": [],
   "source": [
    "def optimize_sodium(df, cols):\n",
    "    n, m, c, A = create_variables(df, cols[1:], 'sodium')\n",
    "    \n",
    "    print('Keto + Minimum Added Sugar')\n",
    "    print()\n",
    "    \n",
    "    # Variable, constraints, and problem\n",
    "    x = cp.Variable(n, integer=True)\n",
    "    obj = cp.Minimize(c.T*x)\n",
    "    constr = create_sodium_constraints(A, x, [2200, 8, .3, .3, .4, 10, 3])\n",
    "    problem = cp.Problem(obj, constr)\n",
    "\n",
    "    # Solve the problem and show the output\n",
    "    opt_value = problem.solve(verbose=True)\n",
    "    df['servings'] = x.value\n",
    "    servings, total_cost = create_summary(df[df.servings > 0].copy(), cols)\n",
    "\n",
    "    print(servings)\n",
    "    print()\n",
    "    print(servings[cols].sum())\n",
    "    print()\n",
    "    print(\"% of calories\")\n",
    "    print(servings[cols].sum() / servings.computed_calories.sum() * 100)\n",
    "    print()\n",
    "    print(\"Total cost: ${}\".format(round(total_cost, 2)))\n",
    "    print()"
   ]
  },
  {
   "cell_type": "code",
   "execution_count": 217,
   "metadata": {},
   "outputs": [],
   "source": [
    "min_sodium_cols = ['sodium', 'computed_calories', 'cost_per_serving', 'total_fat', 'protein', 'total_carbs', 'sugars']"
   ]
  },
  {
   "cell_type": "code",
   "execution_count": 218,
   "metadata": {},
   "outputs": [
    {
     "name": "stdout",
     "output_type": "stream",
     "text": [
      "Keto + Minimum Added Sugar\n",
      "\n",
      "       id                               name  cost_per_serving  calories  total_fat  protein  total_carbs  sodium  sugars  computed_calories  servings      cost\n",
      "30   4655           Sprouted Wheat Sourdough          0.598500      90.0        0.0     84.0        168.0   170.0     3.0              252.0       3.0  1.795500\n",
      "55   4683                   Malabari Paratha          0.597000     120.0       94.5     36.0        240.0   120.0     3.0              370.5       3.0  1.791000\n",
      "68   4698          Organic High Protein Tofu          1.494000     130.0      189.0    168.0         36.0    15.0     0.0              393.0       3.0  4.482000\n",
      "81   4711   Organic Blue Corn Tortilla Chips          0.747500     130.0      243.0     36.0        204.0    40.0     0.0              483.0       3.0  2.242500\n",
      "128  4760                       Banana Chips          0.186250     160.0       81.0      4.0         76.0     0.0     3.0              161.0       1.0  0.186250\n",
      "136  4771  Crispy Crunchy Mochi Rice Nuggets          0.498333     150.0       63.0      8.0         80.0    75.0     0.0              151.0       1.0  0.498333\n",
      "165  4800             Mini Vegetable Samosas          1.163333     160.0       63.0     96.0         80.0   260.0     0.0              239.0       1.0  1.163333\n",
      "528  5185                  Cornish Game Hens          2.660000     220.0      432.0    228.0          0.0    70.0     0.0              660.0       3.0  7.980000\n",
      "\n",
      "sodium                750.000000\n",
      "computed_calories    2709.500000\n",
      "cost_per_serving        7.944917\n",
      "total_fat            1165.500000\n",
      "protein               660.000000\n",
      "total_carbs           884.000000\n",
      "sugars                  9.000000\n",
      "dtype: float64\n",
      "\n",
      "% of calories\n",
      "sodium                27.680384\n",
      "computed_calories    100.000000\n",
      "cost_per_serving       0.293224\n",
      "total_fat             43.015316\n",
      "protein               24.358738\n",
      "total_carbs           32.625946\n",
      "sugars                 0.332165\n",
      "dtype: float64\n",
      "\n",
      "Total cost: $20.14\n",
      "\n"
     ]
    }
   ],
   "source": [
    "optimize_sodium(tdf.copy(), min_sodium_cols)"
   ]
  },
  {
   "cell_type": "code",
   "execution_count": null,
   "metadata": {},
   "outputs": [],
   "source": []
  }
 ],
 "metadata": {
  "kernelspec": {
   "display_name": "Python [default]",
   "language": "python",
   "name": "python3"
  },
  "language_info": {
   "codemirror_mode": {
    "name": "ipython",
    "version": 3
   },
   "file_extension": ".py",
   "mimetype": "text/x-python",
   "name": "python",
   "nbconvert_exporter": "python",
   "pygments_lexer": "ipython3",
   "version": "3.5.2"
  }
 },
 "nbformat": 4,
 "nbformat_minor": 2
}
