{
 "cells": [
  {
   "cell_type": "code",
   "execution_count": 2,
   "metadata": {},
   "outputs": [],
   "source": [
    "import pandas as pd\n",
    "import cvxpy as cp"
   ]
  },
  {
   "cell_type": "code",
   "execution_count": 3,
   "metadata": {},
   "outputs": [],
   "source": [
    "# CVXPY version: https://kevintcarlberg.net/files/opt_class_icme/7_convexity.pdf"
   ]
  },
  {
   "cell_type": "code",
   "execution_count": 4,
   "metadata": {},
   "outputs": [],
   "source": [
    "pd.options.display.width = 180"
   ]
  },
  {
   "cell_type": "code",
   "execution_count": 67,
   "metadata": {},
   "outputs": [],
   "source": [
    "df = pd.read_csv('../data/clean_flyer_data3.csv')"
   ]
  },
  {
   "cell_type": "code",
   "execution_count": 104,
   "metadata": {},
   "outputs": [],
   "source": [
    "# Various sets of columns\n",
    "cols = ['name', 'cost_per_serving', 'total_fat', 'protein', 'total_carbs', 'sodium', 'sugars', 'fiber']\n",
    "vcols = cols + ['vegan']\n",
    "gfcols = cols + ['gluten_free']\n",
    "kcols = cols + ['kosher']\n",
    "macro_nutrient_cols = ['total_fat', 'protein', 'total_carbs']"
   ]
  },
  {
   "cell_type": "code",
   "execution_count": 171,
   "metadata": {},
   "outputs": [
    {
     "data": {
      "text/html": [
       "<div>\n",
       "<style scoped>\n",
       "    .dataframe tbody tr th:only-of-type {\n",
       "        vertical-align: middle;\n",
       "    }\n",
       "\n",
       "    .dataframe tbody tr th {\n",
       "        vertical-align: top;\n",
       "    }\n",
       "\n",
       "    .dataframe thead th {\n",
       "        text-align: right;\n",
       "    }\n",
       "</style>\n",
       "<table border=\"1\" class=\"dataframe\">\n",
       "  <thead>\n",
       "    <tr style=\"text-align: right;\">\n",
       "      <th></th>\n",
       "      <th>name</th>\n",
       "      <th>cost_per_serving</th>\n",
       "      <th>total_fat</th>\n",
       "      <th>protein</th>\n",
       "      <th>total_carbs</th>\n",
       "      <th>sodium</th>\n",
       "      <th>sugars</th>\n",
       "      <th>fiber</th>\n",
       "      <th>calories</th>\n",
       "    </tr>\n",
       "  </thead>\n",
       "  <tbody>\n",
       "    <tr>\n",
       "      <th>226</th>\n",
       "      <td>Organic Grass-Fed Uncured Beef Hot Dogs</td>\n",
       "      <td>1.198</td>\n",
       "      <td>90.0</td>\n",
       "      <td>36.0</td>\n",
       "      <td>4.0</td>\n",
       "      <td>310.0</td>\n",
       "      <td>0.0</td>\n",
       "      <td>0.0</td>\n",
       "      <td>130.0</td>\n",
       "    </tr>\n",
       "    <tr>\n",
       "      <th>353</th>\n",
       "      <td>Cinnamon Rugelach</td>\n",
       "      <td>0.399</td>\n",
       "      <td>54.0</td>\n",
       "      <td>4.0</td>\n",
       "      <td>72.0</td>\n",
       "      <td>210.0</td>\n",
       "      <td>12.0</td>\n",
       "      <td>0.0</td>\n",
       "      <td>130.0</td>\n",
       "    </tr>\n",
       "  </tbody>\n",
       "</table>\n",
       "</div>"
      ],
      "text/plain": [
       "                                        name  cost_per_serving  total_fat  protein  total_carbs  sodium  sugars  fiber  calories\n",
       "226  Organic Grass-Fed Uncured Beef Hot Dogs             1.198       90.0     36.0          4.0   310.0     0.0    0.0     130.0\n",
       "353                        Cinnamon Rugelach             0.399       54.0      4.0         72.0   210.0    12.0    0.0     130.0"
      ]
     },
     "execution_count": 171,
     "metadata": {},
     "output_type": "execute_result"
    }
   ],
   "source": [
    "tdf[tdf.calories == 130]"
   ]
  },
  {
   "cell_type": "code",
   "execution_count": 105,
   "metadata": {},
   "outputs": [],
   "source": [
    "# List for any foods we want to omit\n",
    "# exclude_list = ['Organic High Protein Tofu']\n",
    "exclude_list = []"
   ]
  },
  {
   "cell_type": "code",
   "execution_count": 106,
   "metadata": {},
   "outputs": [],
   "source": [
    "# subset the data by that which isn't empy\n",
    "tdf = df.loc[~df[cols].isnull().any(axis=1), cols].copy()\n",
    "vdf = df.loc[(~df[vcols].isnull().any(axis=1)) & (df.vegan==1), vcols].copy()\n",
    "gfdf = df.loc[(~df[vcols].isnull().any(axis=1)) & (df.gluten_free==1), gfcols].copy()\n",
    "kdf = df.loc[(~df[vcols].isnull().any(axis=1)) & (df.kosher==1), kcols].copy()"
   ]
  },
  {
   "cell_type": "code",
   "execution_count": 107,
   "metadata": {},
   "outputs": [],
   "source": [
    "# Convert grams to calories\n",
    "tdf['protein'] = tdf.protein * 4\n",
    "tdf['total_carbs'] = tdf.total_carbs * 4\n",
    "tdf['total_fat'] = tdf.total_fat * 9\n",
    "\n",
    "vdf['protein'] = vdf.protein * 4\n",
    "vdf['total_carbs'] = vdf.total_carbs * 4\n",
    "vdf['total_fat'] = vdf.total_fat * 9"
   ]
  },
  {
   "cell_type": "code",
   "execution_count": 108,
   "metadata": {},
   "outputs": [],
   "source": [
    "# Compute the calories from the macronutrients\n",
    "tdf['calories'] = tdf[macro_nutrient_cols].sum(axis=1)\n",
    "vdf['calories'] = vdf[macro_nutrient_cols].sum(axis=1)\n",
    "gfdf['calories'] = gfdf[macro_nutrient_cols].sum(axis=1)\n",
    "kdf['calories'] = kdf[macro_nutrient_cols].sum(axis=1)"
   ]
  },
  {
   "cell_type": "code",
   "execution_count": 109,
   "metadata": {},
   "outputs": [],
   "source": [
    "# tdf = tdf[tdf.interest == 1]\n",
    "# tdf = tdf[[c for c in cols if c != 'calories'] + ['computed_calories']]\n",
    "tdf = tdf[~tdf.name.isin(exclude_list)]"
   ]
  },
  {
   "cell_type": "code",
   "execution_count": 88,
   "metadata": {},
   "outputs": [],
   "source": [
    "from tabulate import tabulate"
   ]
  },
  {
   "cell_type": "code",
   "execution_count": 110,
   "metadata": {},
   "outputs": [
    {
     "name": "stdout",
     "output_type": "stream",
     "text": [
      "|    | name                           |   cost_per_serving |   total_fat |   protein |   total_carbs |   sodium |   sugars |   fiber |   calories |\n",
      "|---:|:-------------------------------|-------------------:|------------:|----------:|--------------:|---------:|---------:|--------:|-----------:|\n",
      "|  0 | For the Love of Chocolate Cake |            1.33    |       180   |        16 |           176 |      200 |       31 |       3 |      372   |\n",
      "|  1 | Pancake Bread                  |            0.49875 |        90   |         8 |           100 |      230 |       15 |       0 |      198   |\n",
      "|  2 | Pizza Crusts                   |            0.43625 |        22.5 |        20 |           112 |      330 |        1 |       1 |      154.5 |\n",
      "|  3 | Sprouted Wheat Sourdough       |            0.1995  |         0   |        28 |            56 |      170 |        1 |       2 |       84   |\n",
      "|  5 | Cold Pressed Green Juice       |            3.99    |         0   |        20 |            80 |      320 |       11 |       1 |      100   |\n"
     ]
    }
   ],
   "source": [
    "print(tabulate(tdf.head(), tablefmt=\"pipe\", headers=\"keys\"))"
   ]
  },
  {
   "cell_type": "markdown",
   "metadata": {},
   "source": [
    "## The Problem\n",
    "\n",
    "We want to minimize some aspect of our diet (how much we spend, how much salt we intake) subject to some other constraints (like nutritional composition of the food, a budget, etc). We have\n",
    " - n: number of products\n",
    " - m: number of nutrition dimensions\n",
    " - c: a vector of costs for each food\n",
    " - A: an n x m matrix of products\n",
    " \n",
    "We're looking for x, which is a vector of length n with components representing the amount of each product we'll include that both satisfies the constraints and minimizes the overall cost\n"
   ]
  },
  {
   "cell_type": "code",
   "execution_count": 90,
   "metadata": {},
   "outputs": [],
   "source": [
    "def create_constraints(A, x, diet):\n",
    "    \"\"\"\n",
    "    Takes a list of diet parameters and \n",
    "    returns a list of cvxpy constraint \n",
    "    expressions\n",
    "    \"\"\"\n",
    "    min_cals = diet[0]\n",
    "    max_cals = diet[1]\n",
    "    fat = diet[2]\n",
    "    protein = diet[3]\n",
    "    carbs = diet[4]\n",
    "    max_servings = diet[5]\n",
    "    \n",
    "    return [\n",
    "        A[:, 0]*x >= min_cals,\n",
    "        A[:, 0]*x <= max_cals,\n",
    "        A[:, 1]*x >= min_cals * fat,\n",
    "        A[:, 1]*x <= max_cals * fat,\n",
    "        A[:, 2]*x >= min_cals * protein,\n",
    "        A[:, 2]*x <= max_cals * protein,\n",
    "        A[:, 3]*x >= min_cals * carbs,\n",
    "        A[:, 3]*x <= max_cals * carbs,\n",
    "        x >= 0,\n",
    "        x <= max_servings\n",
    "    ]"
   ]
  },
  {
   "cell_type": "code",
   "execution_count": 91,
   "metadata": {},
   "outputs": [],
   "source": [
    "def create_variables(df, cols, objective_col):\n",
    "    \"\"\"\n",
    "    Takes a dataframe with response information and\n",
    "    returns a tuple of variables and a problem\n",
    "    \"\"\"\n",
    "    n = df.shape[0]\n",
    "    c = df[objective_col].values\n",
    "    A = df[cols].values\n",
    "    \n",
    "    return n, c, A"
   ]
  },
  {
   "cell_type": "code",
   "execution_count": 178,
   "metadata": {},
   "outputs": [],
   "source": [
    "def create_problem(n, c, A, diet):\n",
    "    \"\"\"\n",
    "    Takes a set of variables and a diet and\n",
    "    returns a vector and a problem\n",
    "    \"\"\"\n",
    "    x = cp.Variable(n, integer=True)\n",
    "    obj = cp.Minimize(c.T*x)\n",
    "    constr = create_constraints(A, x, diet)\n",
    "    problem = cp.Problem(obj, constr)\n",
    "    \n",
    "    return x, problem"
   ]
  },
  {
   "cell_type": "code",
   "execution_count": 184,
   "metadata": {},
   "outputs": [],
   "source": [
    "def create_summary(df, cols):\n",
    "    \"\"\"\n",
    "    Takes a dataframe with serving information\n",
    "    and returns a dataframe of servings and costs\n",
    "    and total cost\n",
    "    \"\"\"\n",
    "    for col in cols:\n",
    "        df.loc[:, col] = df[col] * df.optimal_servings\n",
    "    df['cost'] = df.cost_per_serving * df.optimal_servings\n",
    "    total_cost = df.cost.sum()\n",
    "    return df, total_cost"
   ]
  },
  {
   "cell_type": "markdown",
   "metadata": {},
   "source": [
    "### Minimizing Cost in Line with a Diet"
   ]
  },
  {
   "cell_type": "code",
   "execution_count": 189,
   "metadata": {},
   "outputs": [],
   "source": [
    "diets = {\n",
    "    'Balanced': [2200, 2800, .3, .3, .4, 4],\n",
    "    'Keto': [2200, 2800, .7, .24, .01, 4], # high fat and protein\n",
    "    'Atkins': [2200, 3200, .45, .45, .1, 4] # low carb\n",
    "}"
   ]
  },
  {
   "cell_type": "code",
   "execution_count": 190,
   "metadata": {},
   "outputs": [],
   "source": [
    "def optimize_diets(df, cols, diet, diet_config):\n",
    "    n, c, A = create_variables(df, cols[1:], 'cost_per_serving')\n",
    "\n",
    "    print(diet)\n",
    "    print()\n",
    "    # Create the problem\n",
    "    x, problem = create_problem(n, c, A, diet_config)\n",
    "    # Solve the problem\n",
    "    opt_value = problem.solve(verbose=True, solver='GLPK_MI')\n",
    "\n",
    "    print(\"Problem status: {}\".format(problem.status))\n",
    "    print()\n",
    "\n",
    "    # Show the summary\n",
    "    df['optimal_servings'] = x.value\n",
    "    # Add info about the dual solution here\n",
    "    # df['dual'] = problem.constraints[0].dual_value\n",
    "    servings, total_cost = create_summary(df[df.optimal_servings > 0].copy(), cols[1:])\n",
    "\n",
    "    print(tabulate(servings.sort_values('optimal_servings', ascending=False), tablefmt=\"pipe\", headers=\"keys\"))\n",
    "    print()\n",
    "    print(servings[cols[1:]].sum())\n",
    "    print()\n",
    "    print(\"% of calories\")\n",
    "    print(servings[cols].sum() / servings.calories.sum() * 100)\n",
    "    print()\n",
    "    print(\"Total cost: ${}\".format(round(total_cost, 2)))\n",
    "    print()\n",
    "    print()"
   ]
  },
  {
   "cell_type": "code",
   "execution_count": 191,
   "metadata": {},
   "outputs": [],
   "source": [
    "diet_cols = ['cost_per_serving', 'calories', 'total_fat', 'protein', 'total_carbs']"
   ]
  },
  {
   "cell_type": "code",
   "execution_count": 192,
   "metadata": {},
   "outputs": [
    {
     "name": "stdout",
     "output_type": "stream",
     "text": [
      "Balanced\n",
      "\n",
      "Problem status: optimal\n",
      "\n",
      "|     | name                                              |   cost_per_serving |   total_fat |   protein |   total_carbs |   sodium |   sugars |   fiber |   calories |   optimal_servings |     cost |\n",
      "|----:|:--------------------------------------------------|-------------------:|------------:|----------:|--------------:|---------:|---------:|--------:|-----------:|-------------------:|---------:|\n",
      "|   3 | Sprouted Wheat Sourdough                          |           0.1995   |         0   |       112 |           224 |      170 |        1 |       2 |      336   |                  4 | 0.798    |\n",
      "|  41 | Organic High Protein Tofu                         |           0.498    |       252   |       224 |            48 |       15 |        0 |       0 |      524   |                  4 | 1.992    |\n",
      "| 370 | Pumpkin Pancake Mixes, Gluten-Full or Gluten-Free |           0.165833 |         0   |        64 |           576 |      380 |       10 |       1 |      640   |                  4 | 0.663333 |\n",
      "| 500 | Cornish Game Hens                                 |           0.886667 |       432   |       228 |             0 |       70 |        0 |       0 |      660   |                  3 | 2.66     |\n",
      "|  28 | Malabari Paratha                                  |           0.199    |        31.5 |        12 |            80 |      120 |        1 |       1 |      123.5 |                  1 | 0.199    |\n",
      "| 248 | Aloha Rolls                                       |           0.249167 |         9   |        20 |            76 |      110 |        5 |       1 |      105   |                  1 | 0.249167 |\n",
      "\n",
      "calories       2388.5\n",
      "total_fat       724.5\n",
      "protein         660.0\n",
      "total_carbs    1004.0\n",
      "dtype: float64\n",
      "\n",
      "% of calories\n",
      "cost_per_serving      0.092031\n",
      "calories            100.000000\n",
      "total_fat            30.332845\n",
      "protein              27.632405\n",
      "total_carbs          42.034750\n",
      "dtype: float64\n",
      "\n",
      "Total cost: $6.56\n",
      "\n",
      "\n",
      "Keto\n",
      "\n",
      "Problem status: optimal\n",
      "\n",
      "|     | name                          |   cost_per_serving |   total_fat |   protein |   total_carbs |   sodium |   sugars |   fiber |   calories |   optimal_servings |    cost |\n",
      "|----:|:------------------------------|-------------------:|------------:|----------:|--------------:|---------:|---------:|--------:|-----------:|-------------------:|--------:|\n",
      "| 125 | Unexpected Cheddar            |           0.57     |         360 |       112 |             0 |      170 |        0 |       0 |        472 |                  4 | 2.28    |\n",
      "| 500 | Cornish Game Hens             |           0.886667 |         576 |       304 |             0 |       70 |        0 |       0 |        880 |                  4 | 3.54667 |\n",
      "|  79 | Pesto Alla Genovese           |           0.83     |         468 |        24 |            24 |      840 |        0 |       0 |        516 |                  2 | 1.66    |\n",
      "|   9 | French Fromage Slices         |           0.62375  |          81 |        20 |             0 |      125 |        0 |       0 |        101 |                  1 | 0.62375 |\n",
      "| 381 | Organic Grass Fed Ground Beef |           1.4975   |         153 |        84 |             0 |       75 |        0 |       0 |        237 |                  1 | 1.4975  |\n",
      "\n",
      "calories       2206.0\n",
      "total_fat      1638.0\n",
      "protein         544.0\n",
      "total_carbs      24.0\n",
      "dtype: float64\n",
      "\n",
      "% of calories\n",
      "cost_per_serving      0.199815\n",
      "calories            100.000000\n",
      "total_fat            74.252040\n",
      "protein              24.660018\n",
      "total_carbs           1.087942\n",
      "dtype: float64\n",
      "\n",
      "Total cost: $9.61\n",
      "\n",
      "\n",
      "Atkins\n",
      "\n",
      "Problem status: optimal\n",
      "\n",
      "|     | name                              |   cost_per_serving |   total_fat |   protein |   total_carbs |   sodium |   sugars |   fiber |   calories |   optimal_servings |     cost |\n",
      "|----:|:----------------------------------|-------------------:|------------:|----------:|--------------:|---------:|---------:|--------:|-----------:|-------------------:|---------:|\n",
      "|   3 | Sprouted Wheat Sourdough          |           0.1995   |         0   |       112 |           224 |      170 |        1 |       2 |      336   |                  4 | 0.798    |\n",
      "|  41 | Organic High Protein Tofu         |           0.498    |       252   |       224 |            48 |       15 |        0 |       0 |      524   |                  4 | 1.992    |\n",
      "| 222 | All Natural Ground Turkey Patties |           1.1225   |       288   |       320 |             0 |      160 |        0 |       0 |      608   |                  4 | 4.49     |\n",
      "| 500 | Cornish Game Hens                 |           0.886667 |       576   |       304 |             0 |       70 |        0 |       0 |      880   |                  4 | 3.54667  |\n",
      "|  46 | Roasted Garlic Hummus             |           0.24875  |        40.5 |         8 |            16 |      125 |        1 |       1 |       64.5 |                  1 | 0.24875  |\n",
      "| 175 | Sunflower Seed Butter             |           0.356429 |       144   |        28 |            28 |      120 |        3 |       4 |      200   |                  1 | 0.356429 |\n",
      "\n",
      "calories       2612.5\n",
      "total_fat      1300.5\n",
      "protein         996.0\n",
      "total_carbs     316.0\n",
      "dtype: float64\n",
      "\n",
      "% of calories\n",
      "cost_per_serving      0.126769\n",
      "calories            100.000000\n",
      "total_fat            49.779904\n",
      "protein              38.124402\n",
      "total_carbs          12.095694\n",
      "dtype: float64\n",
      "\n",
      "Total cost: $11.43\n",
      "\n",
      "\n"
     ]
    }
   ],
   "source": [
    "for diet, diet_params in diets.items():\n",
    "    optimize_diets(tdf.copy(), diet_cols, diet, diet_params)"
   ]
  },
  {
   "cell_type": "markdown",
   "metadata": {},
   "source": [
    "### Minimize Sodium with Max Cost of $N / day"
   ]
  },
  {
   "cell_type": "code",
   "execution_count": 143,
   "metadata": {},
   "outputs": [],
   "source": [
    "def create_sodium_constraints(A, x, diet):\n",
    "    \"\"\"\n",
    "    Takes a list of diet parameters and \n",
    "    returns a list of cvxpy constraint \n",
    "    expressions\n",
    "    \"\"\"\n",
    "    min_cals = diet[0]\n",
    "    max_cost = diet[1]\n",
    "    fat = diet[2]\n",
    "    protein = diet[3]\n",
    "    carbs = diet[4]\n",
    "    sugars = diet[5]\n",
    "    max_servings = diet[6]\n",
    "    \n",
    "    return [\n",
    "        A[:, 0]*x >= min_cals,\n",
    "        A[:, 1]*x <= max_cost,\n",
    "        A[:, 2]*x >= min_cals * fat,\n",
    "        A[:, 3]*x >= min_cals * protein,\n",
    "        A[:, 4]*x >= min_cals * carbs,\n",
    "        A[:, 5]*x <= sugars,        \n",
    "        x >= 0,\n",
    "        x <= max_servings\n",
    "    ]"
   ]
  },
  {
   "cell_type": "code",
   "execution_count": 144,
   "metadata": {},
   "outputs": [],
   "source": [
    "def optimize_sodium(df, cols, constr_config):\n",
    "    n, c, A = create_variables(df, cols[1:], 'sodium')\n",
    "    \n",
    "    print('Minimize sodium with Cost Constraint')\n",
    "    print()\n",
    "    print(constr_config)\n",
    "    \n",
    "    # Variable, constraints, and problem\n",
    "    x = cp.Variable(n, integer=True)\n",
    "    obj = cp.Minimize(c.T*x)\n",
    "    constr = create_sodium_constraints(A, x, constr_config)\n",
    "    problem = cp.Problem(obj, constr)\n",
    "\n",
    "    # Solve the problem and show the output\n",
    "    opt_value = problem.solve(verbose=True)\n",
    "    df['servings'] = x.value\n",
    "#     df['dual'] = problem.constraints[0].dual_value\n",
    "    servings, total_cost = create_summary(df[df.servings > 0].copy(), cols)\n",
    "    \n",
    "#     for constr in problem.constraints:\n",
    "#         print(constr.dual_value)\n",
    "    \n",
    "    print(servings)\n",
    "    print()\n",
    "    print(servings[cols[1:]].sum())\n",
    "    print()\n",
    "    print(\"% of calories\")\n",
    "    print(servings[cols].sum() / servings.computed_calories.sum() * 100)\n",
    "    print()\n",
    "    print(\"Total cost: ${}\".format(round(total_cost, 2)))\n",
    "    print()"
   ]
  },
  {
   "cell_type": "code",
   "execution_count": 145,
   "metadata": {},
   "outputs": [],
   "source": [
    "min_sodium_cols = ['sodium', 'computed_calories', 'cost_per_serving', 'total_fat', 'protein', 'total_carbs', 'sugars']"
   ]
  },
  {
   "cell_type": "code",
   "execution_count": 146,
   "metadata": {},
   "outputs": [],
   "source": [
    "sodium_constr_config = [2400, 8, .3, .3, .4, 200, 7]"
   ]
  },
  {
   "cell_type": "code",
   "execution_count": 147,
   "metadata": {},
   "outputs": [],
   "source": [
    "configs = [sodium_constr_config + [c] for c in range(1, 10)]"
   ]
  },
  {
   "cell_type": "code",
   "execution_count": 65,
   "metadata": {},
   "outputs": [
    {
     "name": "stdout",
     "output_type": "stream",
     "text": [
      "Minimize sodium with Cost Constraint\n",
      "\n",
      "[2400, 8, 0.3, 0.3, 0.4, 200, 7]\n",
      "                                 name  cost_per_serving  total_fat  protein  total_carbs  sodium  sugars  fiber  computed_calories  servings       cost\n",
      "30           Sprouted Wheat Sourdough          0.798000        0.0    112.0        224.0   170.0     4.0    2.0              336.0       4.0   3.192000\n",
      "68          Organic High Protein Tofu          3.486000      441.0    392.0         84.0    15.0     0.0    0.0              917.0       7.0  24.402000\n",
      "81   Organic Blue Corn Tortilla Chips          0.996667      324.0     48.0        272.0    40.0     0.0    2.0              644.0       4.0   3.986667\n",
      "128                      Banana Chips          0.931250      405.0     20.0        380.0     0.0    15.0    2.0              805.0       5.0   4.656250\n",
      "528                 Cornish Game Hens          1.773333      288.0    152.0          0.0    70.0     0.0    0.0              440.0       2.0   3.546667\n",
      "\n",
      "computed_calories    3142.00000\n",
      "cost_per_serving        7.98525\n",
      "total_fat            1458.00000\n",
      "protein               724.00000\n",
      "total_carbs           960.00000\n",
      "sugars                 19.00000\n",
      "dtype: float64\n",
      "\n",
      "% of calories\n",
      "sodium                 9.388924\n",
      "computed_calories    100.000000\n",
      "cost_per_serving       0.254145\n",
      "total_fat             46.403565\n",
      "protein               23.042648\n",
      "total_carbs           30.553787\n",
      "sugars                 0.604710\n",
      "dtype: float64\n",
      "\n",
      "Total cost: $39.78\n",
      "\n"
     ]
    }
   ],
   "source": [
    "optimize_sodium(tdf.copy(), min_sodium_cols, sodium_constr_config)"
   ]
  },
  {
   "cell_type": "code",
   "execution_count": 82,
   "metadata": {},
   "outputs": [],
   "source": [
    "# for config in configs:\n",
    "#     optimize_sodium(tdf.copy(), min_sodium_cols, config)"
   ]
  },
  {
   "cell_type": "code",
   "execution_count": null,
   "metadata": {},
   "outputs": [],
   "source": []
  }
 ],
 "metadata": {
  "kernelspec": {
   "display_name": "Python [default]",
   "language": "python",
   "name": "python3"
  },
  "language_info": {
   "codemirror_mode": {
    "name": "ipython",
    "version": 3
   },
   "file_extension": ".py",
   "mimetype": "text/x-python",
   "name": "python",
   "nbconvert_exporter": "python",
   "pygments_lexer": "ipython3",
   "version": "3.5.2"
  }
 },
 "nbformat": 4,
 "nbformat_minor": 4
}
